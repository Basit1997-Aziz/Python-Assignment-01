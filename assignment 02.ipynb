{
 "cells": [
  {
   "cell_type": "code",
   "execution_count": 11,
   "metadata": {},
   "outputs": [
    {
     "name": "stdout",
     "output_type": "stream",
     "text": [
      "Enter Marks Of Subject70\n",
      "Enter Marks Of Subject70\n",
      "Enter Marks Of Subject70\n",
      "Enter Marks Of Subject70\n",
      "Enter Marks Of Subject70\n",
      "70.0\n",
      "Well! You got A Grade\n"
     ]
    }
   ],
   "source": [
    "sum = 0\n",
    "for n in range(5):\n",
    "    sub_total = float(input(\"Enter Marks Of Subject\"))\n",
    "    sum = sum + sub_total\n",
    "per = (sum / 500) * 100\n",
    "print(per)\n",
    "if per >= 80:\n",
    "    print(\"Congrats! You got A+ Grade\")\n",
    "if per <= 79.99 and per >= 70:\n",
    "    print(\"Well! You got A Grade\")\n",
    "if per <= 69.99 and per >= 60:\n",
    "    print(\"You got B Grade\")\n",
    "if per <= 59.99 and per >= 50:\n",
    "    print(\"You got C Grade\")\n",
    "if per <=40:\n",
    "    print(\"You Are fail\")"
   ]
  },
  {
   "cell_type": "code",
   "execution_count": 10,
   "metadata": {},
   "outputs": [
    {
     "name": "stdout",
     "output_type": "stream",
     "text": [
      "Enter Number to Check70\n",
      "Number is Even\n"
     ]
    }
   ],
   "source": [
    "num = int(input(\"Enter Number to Check\"))\n",
    "if num % 2 == 0:\n",
    "    print(\"Number is Even\")\n",
    "else:\n",
    "    print(\"Number is Odd\")"
   ]
  },
  {
   "cell_type": "code",
   "execution_count": 12,
   "metadata": {},
   "outputs": [
    {
     "name": "stdout",
     "output_type": "stream",
     "text": [
      "6\n"
     ]
    }
   ],
   "source": [
    "list = [2, 3, \"Basit\", \"Developer\", 5, 9]\n",
    "print(len(list))"
   ]
  },
  {
   "cell_type": "code",
   "execution_count": 13,
   "metadata": {},
   "outputs": [
    {
     "name": "stdout",
     "output_type": "stream",
     "text": [
      "25\n"
     ]
    }
   ],
   "source": [
    "listsum = [1,3,5,7,9]\n",
    "theSum = 0\n",
    "for i in listsum:\n",
    "    theSum = theSum + i\n",
    "print(theSum)"
   ]
  },
  {
   "cell_type": "code",
   "execution_count": 15,
   "metadata": {},
   "outputs": [
    {
     "name": "stdout",
     "output_type": "stream",
     "text": [
      "89\n"
     ]
    }
   ],
   "source": [
    "list = [19, 16, 25, 14, 45, 28, 13, 21, 34, 55, 89]\n",
    "print(max(list))"
   ]
  },
  {
   "cell_type": "code",
   "execution_count": 14,
   "metadata": {},
   "outputs": [
    {
     "name": "stdout",
     "output_type": "stream",
     "text": [
      "7\n"
     ]
    }
   ],
   "source": [
    "listsum = [1, 1, 2, 3, 5, 8, 13, 21, 34, 55, 89]\n",
    "theSum = 0\n",
    "for i in listsum:\n",
    "    if i < 5:\n",
    "        theSum = theSum + i\n",
    "print(theSum)"
   ]
  }
 ],
 "metadata": {
  "kernelspec": {
   "display_name": "Python 3",
   "language": "python",
   "name": "python3"
  },
  "language_info": {
   "codemirror_mode": {
    "name": "ipython",
    "version": 3
   },
   "file_extension": ".py",
   "mimetype": "text/x-python",
   "name": "python",
   "nbconvert_exporter": "python",
   "pygments_lexer": "ipython3",
   "version": "3.7.4"
  }
 },
 "nbformat": 4,
 "nbformat_minor": 2
}
