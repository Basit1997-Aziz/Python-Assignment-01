{
 "cells": [
  {
   "cell_type": "code",
   "execution_count": 1,
   "metadata": {},
   "outputs": [
    {
     "name": "stdout",
     "output_type": "stream",
     "text": [
      "Enter Number for Factorial: 5\n",
      "factorial of 5 is 120\n"
     ]
    }
   ],
   "source": [
    "def factorial(number):\n",
    "    fact = 1;\n",
    "    for x in range(1,number+1):\n",
    "        fact = fact * x\n",
    "    print(\"factorial of \" + str(number) + \" is \" + str(fact))\n",
    "number = int(input(\"Enter Number for Factorial: \"))\n",
    "if number >= 0:\n",
    "    factorial(number)\n",
    "else:\n",
    "    print(\"Number is Negative\")"
   ]
  },
  {
   "cell_type": "code",
   "execution_count": 2,
   "metadata": {},
   "outputs": [
    {
     "name": "stdout",
     "output_type": "stream",
     "text": [
      "Enter String: The Quick Brown Fox Jump Over The L@zy Dog.\n",
      "No. of UpperCase:  9\n",
      "No. of LowerCase:  24\n",
      "No. of Special Character:  10\n"
     ]
    }
   ],
   "source": [
    "def string_check(s):\n",
    "    d = {\"uppercase\": 0, \"lowercase\": 0, \"specialchar\": 0}\n",
    "    for c in s:\n",
    "        if c.isupper():\n",
    "            d[\"uppercase\"]+=1\n",
    "        elif c.islower():\n",
    "            d[\"lowercase\"]+=1\n",
    "        else:\n",
    "            d[\"specialchar\"]+=1\n",
    "    print(\"No. of UpperCase: \",d[\"uppercase\"])\n",
    "    print(\"No. of LowerCase: \",d[\"lowercase\"])\n",
    "    print(\"No. of Special Character: \",d[\"specialchar\"])\n",
    "s = input(\"Enter String: \")\n",
    "string_check(s)"
   ]
  },
  {
   "cell_type": "code",
   "execution_count": 3,
   "metadata": {},
   "outputs": [
    {
     "name": "stdout",
     "output_type": "stream",
     "text": [
      "Enter series of Number2 4 7 1 9 3 7 3 6 4 8 10\n",
      "2\n",
      "4\n",
      "6\n",
      "4\n",
      "8\n",
      "10\n"
     ]
    }
   ],
   "source": [
    "def Convert(string): \n",
    "    li = list(string.split(\" \")) \n",
    "    for x in li:\n",
    "        if int(x) % 2 == 0:\n",
    "            print(x)\n",
    "string = input(\"Enter series of Number\")\n",
    "Convert(string)"
   ]
  },
  {
   "cell_type": "code",
   "execution_count": 4,
   "metadata": {},
   "outputs": [
    {
     "name": "stdout",
     "output_type": "stream",
     "text": [
      "Enter string to check: civic\n",
      "String is Palindrome\n"
     ]
    }
   ],
   "source": [
    "def string_reverse(s):\n",
    "    string = \"\"\n",
    "    for i in s:\n",
    "        string = i + string\n",
    "    if string == s:\n",
    "        print(\"String is Palindrome\")\n",
    "    else:\n",
    "        print(\"String is not Palindrome\")\n",
    "string = input(\"Enter string to check: \")\n",
    "string_reverse(string)"
   ]
  },
  {
   "cell_type": "code",
   "execution_count": 5,
   "metadata": {},
   "outputs": [
    {
     "name": "stdout",
     "output_type": "stream",
     "text": [
      "Enter Number to Check: 7\n",
      "Number is Prime\n"
     ]
    }
   ],
   "source": [
    "def prime_number(number):\n",
    "    if number > 1:\n",
    "        for i in range(2,number):\n",
    "            if number % i == 0:\n",
    "                print(\"Number is not Prime\")\n",
    "                break\n",
    "            else:\n",
    "                print(\"Number is Prime\")\n",
    "                break\n",
    "    elif number == 1:\n",
    "        print(\"Number is Not Prime\", number)\n",
    "    else:\n",
    "        print(\"Number is Negative\", number)\n",
    "number = int(input(\"Enter Number to Check: \"))\n",
    "prime_number(number)"
   ]
  },
  {
   "cell_type": "code",
   "execution_count": 6,
   "metadata": {},
   "outputs": [
    {
     "name": "stdout",
     "output_type": "stream",
     "text": [
      "Enter item or Quit to exit: utensil\n",
      "Enter item or Quit to exit: toy\n",
      "Enter item or Quit to exit: grocery\n",
      "Enter item or Quit to exit: clothes\n",
      "Enter item or Quit to exit: accessories\n",
      "Enter item or Quit to exit: Quit\n",
      "List Of Item Purchsed\n",
      "Item No. 1 is: utensil\n",
      "Item No. 2 is: toy\n",
      "Item No. 3 is: grocery\n",
      "Item No. 4 is: clothes\n",
      "Item No. 5 is: accessories\n"
     ]
    }
   ],
   "source": [
    "def list_io(string):\n",
    "    li = []\n",
    "    while string != \"Quit\":\n",
    "        li.append(string)\n",
    "        string = input(\"Enter item or Quit to exit: \")\n",
    "    count = 1\n",
    "    print(\"List Of Item Purchsed\")\n",
    "    for i in li:\n",
    "        print(\"Item No. \" + str(count) + \" is: \" + i)\n",
    "        count = count + 1\n",
    "string = input(\"Enter item or Quit to exit: \")\n",
    "list_io(string)\n"
   ]
  }
 ],
 "metadata": {
  "kernelspec": {
   "display_name": "Python 3",
   "language": "python",
   "name": "python3"
  },
  "language_info": {
   "codemirror_mode": {
    "name": "ipython",
    "version": 3
   },
   "file_extension": ".py",
   "mimetype": "text/x-python",
   "name": "python",
   "nbconvert_exporter": "python",
   "pygments_lexer": "ipython3",
   "version": "3.7.4"
  }
 },
 "nbformat": 4,
 "nbformat_minor": 2
}
